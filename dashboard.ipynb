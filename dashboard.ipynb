# Eye-Tracking Data Dashboard - Optimized for Voila
# This is a single-cell, robust script for deployment.

# ==============================================================================
# CELL 1: IMPORTS AND SETUP
# ==============================================================================
import pandas as pd
import numpy as np
import plotly.express as px
import plotly.graph_objects as go
from plotly.subplots import make_subplots
import ipywidgets as widgets
from ipywidgets import HBox, VBox, Layout, HTML
from IPython.display import display, clear_output
import warnings
import re
import os
from functools import reduce
from imblearn.over_sampling import SMOTE
warnings.filterwarnings('ignore')

# ==============================================================================
# CELL 2: STYLING AND GLOBAL CONFIGURATION
# ==============================================================================
MODERN_COLORS = {
    'primary': '#00D4FF', 'secondary': '#FF6B6B', 'accent': '#4ECDC4', 'dark': '#1A1A2E',
    'light': '#16213E', 'success': '#00F5A0', 'warning': '#FFD93D', 'text': '#FFFFFF'
}
gender_palette = {'Male': MODERN_COLORS['primary'], 'Female': MODERN_COLORS['secondary']}
widget_style = {'description_width': 'auto'}

dropdown_style = """
<style>
.widget-dropdown select {
    background: linear-gradient(135deg, #667eea 0%, #764ba2 100%); color: white; border: 2px solid #00D4FF;
    border-radius: 8px; padding: 8px 12px; font-weight: 500; min-height: 40px;
}
.widget-dropdown .widget-label { color: #00D4FF; font-weight: 600; font-size: 14px; margin-right: 10px; }
.widget-dropdown select option { background-color: white; color: #1A1A2E; padding: 5px; }
.main-question-dropdown { position: relative; z-index: 999; }
</style>
"""

# Define global variables for the processed dataframes
all_merged_long_dfs = {}
final_combined_long_df = pd.DataFrame()
selected_metric_sheets = ["Tot Fixation dur", "Fixation count", "Time to first Fixation", "Tot Visit dur"]
questions_config = {
    'Q1': {'file_path': 'GenAIEyeTrackingCleanedDataset/Filtered_GenAI_Metrics_cleaned_Q1.xlsx', 'aoi_columns': ['1 Eyebrow A', '1 Eyebrow B', '1 Eyes A', '1 Eyes B', '1 Hair A', '1 Hair B', '1 Nose A', '1 Nose B']},
    'Q2': {'file_path': 'GenAIEyeTrackingCleanedDataset/Filtered_GenAI_Metrics_cleaned_Q2.xlsx', 'aoi_columns': ['2 Body A', '2 Body B', '2 Face A', '2 Face B', '2 Hair A', '2 Hair B']},
    'Q3': {'file_path': 'GenAIEyeTrackingCleanedDataset/Filtered_GenAI_Metrics_cleaned_Q3.xlsx', 'aoi_columns': ['3 Back Mountain A', '3 Back Mountain B', '3 Front Mountain A', '3 Front Mountain B', '3 Midground A', '3 Midground B', '3 Plain A', '3 River B', '3 Sky A', '3 Sky B']},
    'Q4': {'file_path': 'GenAIEyeTrackingCleanedDataset/Filtered_GenAI_Metrics_cleaned_Q4.xlsx', 'aoi_columns': ['4 Chilli B', '4 Jalapeno B', '4 Mushroom A1', '4 Mushroom A2', '4 Mushroom B', '4 Olive A', '4 Pepperoni A', '4 Pepperoni B']},
    'Q5': {'file_path': 'GenAIEyeTrackingCleanedDataset/Filtered_GenAI_Metrics_cleaned_Q5.xlsx', 'aoi_columns': ['5 Sea A', '5 Sea B', '5 Sky A', '5 Sky B']},
    'Q6': {'file_path': 'GenAIEyeTrackingCleanedDataset/Filtered_GenAI_Metrics_cleaned_Q6.xlsx', 'aoi_columns': ['6 Background B1','6 Background B2','6 Flower A', '6 Flower B', '6 Inside A', '6 Inside B', '6 Leaf A', '6 Leaf B', '6 Sky A', '6 Sky B']}
}

# ==============================================================================
# CELL 3: DATA LOADING AND PROCESSING PIPELINE
# ==============================================================================

def load_and_process_data():
    """Performs the entire data loading and processing pipeline and populates global dataframes."""
    global all_merged_long_dfs, final_combined_long_df
    print("--- Starting data loading and processing ---")

    # Load Participant Data
    try:
        participant_df_global = pd.read_excel('GenAIEyeTrackingCleanedDataset/ParticipantList.xlsx', sheet_name='GENAI', header=2, usecols=['Gender', 'Participant ID'])
        participant_df_global = participant_df_global.rename(columns={'Participant ID': 'Participant_ID'}).dropna(subset=['Gender', 'Participant_ID']).drop_duplicates(subset='Participant_ID')
        print("Participant data loaded successfully.")
    except Exception as e:
        print(f"CRITICAL ERROR loading ParticipantList.xlsx: {e}")
        return

    # --- Multi-stage processing ---
    # 1. Load all sheets for each question
    all_data_sheets = {}
    for q_name, config in questions_config.items():
        try:
            xls = pd.ExcelFile(config['file_path'])
            all_data_sheets[q_name] = {sheet: xls.parse(sheet) for sheet in xls.sheet_names if sheet in selected_metric_sheets}
        except Exception as e:
            print(f"Warning: Could not load or parse file for {q_name}: {e}")
            all_data_sheets[q_name] = {}

    # 2. Clean and merge with gender data
    all_cleaned_metrics_dfs = {}
    for q_name, data_sheets in all_data_sheets.items():
        cleaned_qN = {}
        for sheet_name, df in data_sheets.items():
            if 'Participant' in df.columns: df = df.rename(columns={'Participant': 'Participant_ID'})
            if 'Participant_ID' in df.columns:
                df['Participant_ID'] = df['Participant_ID'].apply(lambda x: f'P{int(str(x)[1:]):02d}' if isinstance(x, str) and x.startswith('P') and x[1:].isdigit() else (f'P{int(x):02d}' if pd.notna(x) and isinstance(x, (int, float)) else x))
                df_merged = df.merge(participant_df_global, on='Participant_ID', how='left')
                cleaned_qN[sheet_name] = df_merged.dropna(subset=['Participant_ID', 'Gender'])
        all_cleaned_metrics_dfs[q_name] = cleaned_qN
    print("Data cleaning and gender merge complete.")

    # 3. Reconstruct balanced data using SMOTE
    all_balanced_unified_dfs = {}
    master_sheet = 'Tot Fixation dur'
    for q_name, config in questions_config.items():
        cleaned_metrics_qN = all_cleaned_metrics_dfs.get(q_name, {})
        if master_sheet not in cleaned_metrics_qN or cleaned_metrics_qN[master_sheet].empty:
            print(f"Skipping SMOTE for {q_name}: master sheet missing.")
            all_balanced_unified_dfs[q_name] = cleaned_metrics_qN
            continue
        
        df_master = cleaned_metrics_qN[master_sheet]
        aoi_cols = [col for col in config['aoi_columns'] if col in df_master.columns]
        df_repr = df_master.groupby('Participant_ID').first().reset_index()
        X, y = df_repr[aoi_cols].fillna(0), df_repr['Gender']

        if y.nunique() < 2 or y.value_counts().min() < 2:
            df_resampled = df_repr
        else:
            smote = SMOTE(random_state=42, k_neighbors=max(1, y.value_counts().min() - 1))
            X_res, y_res = smote.fit_resample(X, y)
            df_resampled = pd.DataFrame(X_res, columns=aoi_cols)
            df_resampled['Gender'] = y_res
            df_resampled['Participant_ID'] = [f'Balanced_{q_name}_{i}' for i in range(len(df_resampled))]
        
        reconstructed_qN = {}
        for sheet_name, df_orig in cleaned_metrics_qN.items():
            if sheet_name == master_sheet:
                reconstructed_qN[sheet_name] = df_resampled
            else:
                sheet_aoi_cols = [c for c in config['aoi_columns'] if c in df_orig.columns]
                if sheet_aoi_cols:
                    gender_means = df_orig.groupby('Gender')[sheet_aoi_cols].mean()
                    reconstructed_rows = [
                        {'Participant_ID': mr['Participant_ID'], 'Gender': mr['Gender'], **gender_means.loc[mr['Gender']]}
                        for _, mr in df_resampled.iterrows()
                    ]
                    reconstructed_qN[sheet_name] = pd.DataFrame(reconstructed_rows)
        all_balanced_unified_dfs[q_name] = reconstructed_qN
    print("Data balancing complete.")

    # 4. Melt to long format
    for q_name, config in questions_config.items():
        reconstructed_dfs = all_balanced_unified_dfs.get(q_name, {})
        if not reconstructed_dfs: continue
        
        long_dfs = []
        for sheet_name, df_sheet in reconstructed_dfs.items():
            aoi_cols_to_melt = [c for c in config['aoi_columns'] if c in df_sheet.columns]
            if aoi_cols_to_melt:
                df_long = df_sheet.melt(id_vars=['Participant_ID', 'Gender'], value_vars=aoi_cols_to_melt, var_name='AOI', value_name=sheet_name)
                long_dfs.append(df_long)
        
        if long_dfs:
            merged_df = reduce(lambda left, right: pd.merge(left, right, on=['Participant_ID', 'Gender', 'AOI'], how='outer'), long_dfs)
            merged_df['Image_Type'] = merged_df['AOI'].apply(lambda a: 'AI' if ' B' in str(a) else 'Real')
            all_merged_long_dfs[q_name] = merged_df
    print("Melting to long format complete.")

    # 5. Create final combined dataframe
    all_q_dfs = [df.copy().assign(Question=q) for q, df in all_merged_long_dfs.items() if not df.empty]
    if all_q_dfs:
        final_combined_long_df = pd.concat(all_q_dfs, ignore_index=True)
    print("--- Data processing finished successfully. ---")

# ==============================================================================
# CELL 5: VISUALIZATION & DASHBOARD LOGIC (Final working version)
# ==============================================================================

# --- Helper Functions ---
def create_dashboard_header():
    return HTML(f\"\"\"<div style='...'>...</div>\"\"\") # Collapsed for brevity
def create_section_divider(title, icon=\"📊\"):
    return HTML(f\"\"\"<div style='...'><h3>{icon} {title}</h3></div>\"\"\") # Collapsed for brevity
def create_loading_widget():
    return HTML(f\"\"\"<div style='...'>Generating Visualizations...</div>\"\"\") # Collapsed for brevity
def create_error_display(message):
    return HTML(f\"\"\"<div style='...'><h4>⚠️ No Data Available</h4><p>{message}</p></div>\"\"\") # Collapsed for brevity

# --- Plotting Functions ---
def create_modern_bar_plot(data, metric, agg_func, plot_title_suffix):
    aoi_summary = data.groupby(['Gender', 'AOI', 'Image_Type'], as_index=False).agg({metric: agg_func}).sort_values(by=['AOI', 'Gender'])
    fig = px.bar(aoi_summary, x='AOI', y=metric, color='Gender', color_discrete_map=gender_palette, title=f'{metric} ({agg_func.capitalize()}) per AOI {plot_title_suffix}', height=500, barmode='group')
    fig.update_layout(plot_bgcolor='rgba(0,0,0,0.8)', paper_bgcolor='rgba(0,0,0,0.8)', font_color='white')
    return fig

def create_combined_bar_plot(data, metric, agg_func, plot_title_suffix):
    summary = data.groupby(['Image_Type', 'Gender'], as_index=False).agg({metric: agg_func})
    fig = px.bar(summary, x='Image_Type', y=metric, color='Gender', color_discrete_map=gender_palette, title=f'{metric} ({agg_func.capitalize()}) by Image Type {plot_title_suffix}', height=500, barmode='group')
    fig.update_layout(plot_bgcolor='rgba(0,0,0,0.8)', paper_bgcolor='rgba(0,0,0,0.8)', font_color='white')
    return fig

def create_modern_scatter_plot(data, dur_col, count_col, plot_title_suffix):
    valid_data = data.dropna(subset=[dur_col, count_col])
    if valid_data.empty: return None
    fig = px.scatter(valid_data, x=dur_col, y=count_col, color='Gender', symbol='Image_Type', title=f'Scatter: {count_col} vs {dur_col} {plot_title_suffix}', hover_data=['Participant_ID', 'AOI'], color_discrete_map=gender_palette, height=600)
    fig.update_layout(plot_bgcolor='rgba(0,0,0,0.8)', paper_bgcolor='rgba(0,0,0,0.8)', font_color='white')
    return fig

def _create_4_panel_dashboard(data, metric, plot_title_suffix):
    fig = make_subplots(rows=2, cols=2, subplot_titles=(f'{metric} by Image Type & Gender', f'{metric} Violin Plot', f'Distribution by Gender', 'Summary Statistics'), specs=[[{\"type\": \"box\"}, {\"type\": \"violin\"}], [{\"type\": \"histogram\"}, {\"type\": \"table\"}]])
    if 'Image_Type' in data.columns and 'Gender' in data.columns:
        for gender in data['Gender'].unique():
            subset = data[data['Gender'] == gender]
            fig.add_trace(go.Box(y=subset[metric], x=subset['Image_Type'], name=gender, marker_color=gender_palette.get(gender), legendgroup=gender, showlegend=True, boxpoints='outliers'), row=1, col=1)
        fig.update_layout(boxmode='group')
    if 'Gender' in data.columns:
        for gender in data['Gender'].unique():
            fig.add_trace(go.Histogram(x=data[data['Gender'] == gender][metric], name=gender, marker_color=gender_palette.get(gender), legendgroup=gender, showlegend=False, opacity=0.7), row=2, col=1)
        fig.update_layout(barmode='overlay')
    try:
        summary = data.groupby(['Image_Type', 'Gender'])[metric].agg(['count', 'mean', 'std', 'min', 'max']).round(2).reset_index()
        fig.add_trace(go.Table(header=dict(values=[f'<b>{c.upper()}</b>' for c in summary.columns], font=dict(size=11)), cells=dict(values=[summary[c] for c in summary.columns], font=dict(size=10))), row=2, col=2)
    except Exception: pass
    fig.update_layout(height=850, plot_bgcolor='rgba(0,0,0,0.8)', paper_bgcolor='rgba(0,0,0,0.8)', font_color='white', title_x=0.5, legend=dict(orientation=\"h\", yanchor=\"bottom\", y=1.02))
    return fig

# --- Main UI Builder Functions ---
def build_section(df, metric_options, question_choice, section_title, plot_function):
    divider = create_section_divider(section_title, \"📊\")
    dd_metric = widgets.Dropdown(options=metric_options, description='Select Metric:', style=widget_style, layout=Layout(min_width='350px'))
    output_area = widgets.Output()

    def update_plot(metric_to_plot):
        with output_area:
            clear_output(wait=True)
            display(plot_function(df, metric_to_plot, question_choice))

    def handle_change(change): update_plot(change.new)
    dd_metric.observe(handle_change, names='value')
    update_plot(dd_metric.value)
    return VBox([divider, HBox([dd_metric]), output_area], layout=Layout(width='100%'))

# --- Main Dashboard Orchestrator ---
dashboard_body = VBox()
def update_dashboard_layout(change):
    global dashboard_body
    question_choice = change['new']
    dashboard_body.children = [create_loading_widget()]
    df_to_plot = final_combined_long_df if question_choice == 'All Combined' else all_merged_long_dfs.get(question_choice, pd.DataFrame())
    
    if df_to_plot.empty:
        dashboard_body.children = [create_error_display(f\"No data for {question_choice}\")]
        return
    
    # Bar Chart Section
    def bar_plot_logic(df, metric, q_choice):
        agg = 'mean' if 'Time to first Fixation' in metric else 'sum'
        if q_choice != 'All Combined': return create_modern_bar_plot(df, metric, agg, f\"({q_choice})\")
        else: return create_combined_bar_plot(df, metric, agg, f\"({q_choice})\")
    
    # Comparison Dashboard Section
    def comparison_logic(df, metric, q_choice):
        dash, heat = create_comparison_dashboard(df, metric, selected_metric_sheets, f\"({q_choice})\")
        return VBox([d for d in [dash, heat] if d])

    bar_section = build_section(df_to_plot, selected_metric_sheets, question_choice, \"Interactive Bar Chart Analysis\", bar_plot_logic)
    scatter_section = build_scatter_section(df_to_plot, f\"({question_choice})\") # Scatter is static, no metric dropdown
    comparison_section = build_section(df_to_plot, selected_metric_sheets, question_choice, \"Multi-Dimensional Analysis & Heatmaps\", comparison_logic)

    dashboard_body.children = [bar_section, scatter_section, comparison_section]

# --- Dashboard Initialization ---
def initialize_dashboard():
    display(HTML(dropdown_style))
    display(create_dashboard_header())
    
    question_options = ['All Combined'] + list(questions_config.keys())
    dd_question = widgets.Dropdown(options=question_options, description='📋 Select Question Set:', style={'description_width': 'initial'}, layout=Layout(width='50%', margin='0 auto 20px auto'))
    dd_question.add_class(\"main-question-dropdown\")
    display(dd_question)

    global dashboard_body
    dashboard_body.layout.width = '100%'
    
    dd_question.observe(update_dashboard_layout, names='value')
    display(dashboard_body)
    update_dashboard_layout({'new': dd_question.value})

# --- Run the App ---
load_and_process_data()
initialize_dashboard()"
  ]
  }
 ],
 "metadata": {
  "kernelspec": {
   "display_name": "Python 3",
   "language": "python",
   "name": "python3"
  },
  "language_info": {
   "name": "python"
  }
 },
 "nbformat": 4,
 "nbformat_minor": 2
}